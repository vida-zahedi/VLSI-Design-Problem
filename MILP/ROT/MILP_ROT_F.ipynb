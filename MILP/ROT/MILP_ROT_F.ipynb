{
  "nbformat": 4,
  "nbformat_minor": 0,
  "metadata": {
    "colab": {
      "provenance": []
    },
    "kernelspec": {
      "name": "python3",
      "display_name": "Python 3"
    },
    "language_info": {
      "name": "python"
    }
  },
  "cells": [
    {
      "cell_type": "markdown",
      "source": [
        "# VLSI DESIGN PROBLEM USING MIXED INTEGER LINEAR PROGRAMMING"
      ],
      "metadata": {
        "id": "n3raya2g2_JR"
      }
    },
    {
      "cell_type": "markdown",
      "source": [
        "\"\"\" Team members : vida Zahedi (vida.zahedi@studio.unibo.it) - Samral Tahirli (samral.tahirli@studio.unibo.it) \"\"\""
      ],
      "metadata": {
        "id": "6lv46tNh3LEh"
      }
    },
    {
      "cell_type": "code",
      "execution_count": 2,
      "metadata": {
        "colab": {
          "base_uri": "https://localhost:8080/"
        },
        "id": "vlWIE3CZjeTW",
        "outputId": "c2146532-6d53-44a1-f882-2ff504fc4095"
      },
      "outputs": [
        {
          "output_type": "stream",
          "name": "stdout",
          "text": [
            "Looking in indexes: https://pypi.org/simple, https://us-python.pkg.dev/colab-wheels/public/simple/\n",
            "Collecting gurobipy\n",
            "  Downloading gurobipy-10.0.1-cp38-cp38-manylinux2014_x86_64.whl (12.8 MB)\n",
            "\u001b[2K     \u001b[90m━━━━━━━━━━━━━━━━━━━━━━━━━━━━━━━━━━━━━━━━\u001b[0m \u001b[32m12.8/12.8 MB\u001b[0m \u001b[31m26.1 MB/s\u001b[0m eta \u001b[36m0:00:00\u001b[0m\n",
            "\u001b[?25hInstalling collected packages: gurobipy\n",
            "Successfully installed gurobipy-10.0.1\n"
          ]
        }
      ],
      "source": [
        "!pip install gurobipy"
      ]
    },
    {
      "cell_type": "code",
      "source": [
        "#importing requiredlibraries\n",
        "import time\n",
        "import math\n",
        "import numpy as np\n",
        "import gurobipy as gp\n",
        "from gurobipy import GRB\n",
        "from itertools import combinations"
      ],
      "metadata": {
        "id": "gJl4euwojlQm"
      },
      "execution_count": 42,
      "outputs": []
    },
    {
      "cell_type": "code",
      "source": [
        "# read and make the input data from text file\n",
        "def read_instance(file_name):\n",
        "     with open(file_name, 'r') as f:\n",
        "        Width = int(f.readline().strip())\n",
        "        Number = int(f.readline().strip())\n",
        "        Pieces = np.array([list(map(int, line.strip().split())) for line in f.readlines()])\n",
        "     return Width, Number, Pieces\n"
      ],
      "metadata": {
        "id": "2yR5szr1jol6"
      },
      "execution_count": 43,
      "outputs": []
    },
    {
      "cell_type": "code",
      "source": [
        "#this function will take the input and will out put the optimized height plus the pplacement of each peice on the plate\n",
        "def vlsi_optimization(Width, Number, Pieces):\n",
        "     Widths   = Pieces[:, 0]\n",
        "     Heights  = Pieces[:, 1]\n",
        "     Rotation = np.array([[x, y] if x<=y else [y, x] for x, y in zip(Widths, Heights)]) # rotate if needed\n",
        "     min_height = sum(Widths * Heights) // Width\n",
        "     max_height = math.ceil(sum(Heights)/(Width//max(Widths)))\n",
        "     Solver = gp.Model('VLSI-Design')\n",
        "     M1=10**6\n",
        "     M2=10**6\n",
        "     OptHeight = Solver.addVar(name='height', vtype=gp.GRB.INTEGER, lb=min_height, ub=max_height)\n",
        "     x = Solver.addVars(list(range(Number)), name=\"x\", vtype=gp.GRB.INTEGER, lb=0, ub=Width - Rotation[:, 0].min())\n",
        "     y = Solver.addVars(list(range(Number)), name=\"y\", vtype=gp.GRB.INTEGER, lb=0, \n",
        "                  ub=max_height - Rotation[:, 1].min())\n",
        "     comb = Solver.addVars([(i,j,k) for (i,j) in combinations(x,2) for k in range(4)], name='comb', vtype=gp.GRB.BINARY)\n",
        "     c1=Solver.addConstrs((x[i]  + Rotation[i, 0] <= Width for i in range(Number)), name='c1')\n",
        "     c2 =Solver.addConstrs((y[i] + Rotation[i, 1] <=  OptHeight for i in range(Number)), name='c2')\n",
        "     c3=Solver.addConstrs((comb.sum(i,j,'*') >= 1 for (i,j) in combinations(x,2)), name = 'c3')\n",
        "     c4=Solver.addConstrs((x[j]  + Rotation[j, 0] <= x[i]  + M1 * (1 - comb[i,j,0]) for (i,j) in combinations(x,2)), name = 'c4')\n",
        "     c5=Solver.addConstrs((x[i]  + Rotation[i, 0] <= x[j]  + M1 * (1 - comb[i,j,1]) for (i,j) in combinations(x,2)), name = 'c5')\n",
        "     c6= Solver.addConstrs((y[j] + Rotation[j, 1] <= y[i]  + M2 * (1 - comb[i,j,2]) for (i,j) in combinations(x,2)), name = 'c6')\n",
        "     c7= Solver.addConstrs((y[i] + Rotation[i, 1] <= y[j]  + M2 * (1 - comb[i,j,3]) for (i,j) in combinations(x,2)), name = 'c7')\n",
        "     Solver.setObjective( OptHeight, GRB.MINIMIZE)\n",
        "     #Solver.setObjective(OptHeight, gp.GRB.MINIMIZE)\n",
        "     Solver.optimize()\n",
        "     coords = []\n",
        "     for i in range(Number):\n",
        "        coords.append([x[i].x, y[i].x, Rotation[i, 0], Rotation[i, 1]])\n",
        "     coords = np.array(coords)\n",
        "     print(\"Circuit placements:\")\n",
        "     for i in range(Number):\n",
        "        print(\"Circuit\", i, \": x =\", int(coords[i,0]), \", y =\", int(coords[i,1]), \", width =\", int(coords[i,2]), \", height =\", int(coords[i,3]))\n",
        "     Solver.update()\n",
        "     return  Solver.objVal,x,y,OptHeight\n"
      ],
      "metadata": {
        "id": "oTYy6N6QjzNc"
      },
      "execution_count": 51,
      "outputs": []
    },
    {
      "cell_type": "code",
      "source": [
        "#solving the instances by calling the functions\n",
        "Num= 2\n",
        "start_time = time.time()\n",
        "file_name = \"/content/ins-\"+str(Num)+\".txt\"\n",
        "Width, Number, Pieces = read_instance(file_name)\n",
        "Model=vlsi_optimization(Width, Number, Pieces)\n",
        "#print the execution time \n",
        "timing = (time.time() - start_time)\n",
        "print(timing,\"execution-time\")"
      ],
      "metadata": {
        "colab": {
          "base_uri": "https://localhost:8080/"
        },
        "id": "cqw-HDeplZJ7",
        "outputId": "0878aa65-a508-4ff6-e1c3-476ee8a5afb6"
      },
      "execution_count": 53,
      "outputs": [
        {
          "output_type": "stream",
          "name": "stdout",
          "text": [
            "Gurobi Optimizer version 10.0.1 build v10.0.1rc0 (linux64)\n",
            "\n",
            "CPU model: AMD EPYC 7B12, instruction set [SSE2|AVX|AVX2]\n",
            "Thread count: 1 physical cores, 2 logical processors, using up to 2 threads\n",
            "\n",
            "Optimize a model with 60 rows, 51 columns and 175 nonzeros\n",
            "Model fingerprint: 0x5b3332e8\n",
            "Variable types: 0 continuous, 51 integer (40 binary)\n",
            "Coefficient statistics:\n",
            "  Matrix range     [1e+00, 1e+06]\n",
            "  Objective range  [1e+00, 1e+00]\n",
            "  Bounds range     [1e+00, 9e+00]\n",
            "  RHS range        [1e+00, 1e+06]\n",
            "Found heuristic solution: objective 9.0000000\n",
            "\n",
            "Explored 0 nodes (0 simplex iterations) in 0.01 seconds (0.00 work units)\n",
            "Thread count was 1 (of 2 available processors)\n",
            "\n",
            "Solution count 1: 9 \n",
            "\n",
            "Optimal solution found (tolerance 1.00e-04)\n",
            "Best objective 9.000000000000e+00, best bound 9.000000000000e+00, gap 0.0000%\n",
            "Circuit placements:\n",
            "Circuit 0 : x = 6 , y = 0 , width = 3 , height = 3\n",
            "Circuit 1 : x = 3 , y = 5 , width = 3 , height = 4\n",
            "Circuit 2 : x = 3 , y = 0 , width = 3 , height = 5\n",
            "Circuit 3 : x = 6 , y = 3 , width = 3 , height = 6\n",
            "Circuit 4 : x = 0 , y = 0 , width = 3 , height = 9\n",
            "0.0485687255859375 execution-time\n"
          ]
        }
      ]
    }
  ]
}