{
  "nbformat": 4,
  "nbformat_minor": 0,
  "metadata": {
    "colab": {
      "provenance": []
    },
    "kernelspec": {
      "name": "python3",
      "display_name": "Python 3"
    },
    "language_info": {
      "name": "python"
    }
  },
  "cells": [
    {
      "cell_type": "markdown",
      "source": [
        "# VLSI DESIGN USING Z3 SOLVER"
      ],
      "metadata": {
        "id": "aYys2lT9Zxta"
      }
    },
    {
      "cell_type": "markdown",
      "source": [
        " Vida Zahedi-vida.zahedi@studio.unibo.it\n",
        " Samral Tahirli-samral.tahirli@studio.unibo.it"
      ],
      "metadata": {
        "id": "EscuFyMxsZWw"
      }
    },
    {
      "cell_type": "code",
      "execution_count": null,
      "metadata": {
        "colab": {
          "base_uri": "https://localhost:8080/"
        },
        "id": "V7_j3DKPZql1",
        "outputId": "c1f53211-d20d-4f4a-8e69-c3245c6fd0a3"
      },
      "outputs": [
        {
          "output_type": "stream",
          "name": "stdout",
          "text": [
            "Looking in indexes: https://pypi.org/simple, https://us-python.pkg.dev/colab-wheels/public/simple/\n",
            "Collecting z3-solver\n",
            "  Downloading z3_solver-4.12.1.0-py2.py3-none-manylinux1_x86_64.whl (56.0 MB)\n",
            "\u001b[2K     \u001b[90m━━━━━━━━━━━━━━━━━━━━━━━━━━━━━━━━━━━━━━━━\u001b[0m \u001b[32m56.0/56.0 MB\u001b[0m \u001b[31m13.0 MB/s\u001b[0m eta \u001b[36m0:00:00\u001b[0m\n",
            "\u001b[?25hInstalling collected packages: z3-solver\n",
            "Successfully installed z3-solver-4.12.1.0\n"
          ]
        }
      ],
      "source": [
        "!pip install z3-solver"
      ]
    },
    {
      "cell_type": "code",
      "source": [
        "#importing required libraries\n",
        "import time\n",
        "import numpy as np\n",
        "from z3 import And, Or, Int,Not, Solver, sat, If, Sum , Bool,Implies,Optimize\n",
        "start_time = time.time()\n",
        "Num = 6 #the number of instance we want to find the solution for.     \n",
        "Inputs = []\n",
        "#reading the file and seperating each row.\n",
        "with open( InstanceName , 'r') as Sample:\n",
        "    for line in Sample:\n",
        "        Inputs.append(line.replace('\\n',''))\n",
        "#Making a 2 dimensional list of the Inputs in str format.       \n",
        "Inputs=[line.split(' ') for line in Inputs]\n",
        "#print(Inputs)\n",
        "\n",
        "# we must change the inputs from string to integer.\n",
        "# Defining the inputs and variables. \n",
        "Width   = int(Inputs[0][0]) \n",
        "Number  = int(Inputs[1][0]) \n",
        "Widths  = [int(line[0]) for line in Inputs[2:]] \n",
        "Heights = [int(line[1]) for line in Inputs[2:]]\n",
        "#defining the upper boundary for the height of plate => calling it MaxHeight.\n",
        "MaxHeight = sum(Heights) \n",
        "#defining the lower boundary for the height of plate => calling it MinHeight.\n",
        "MinHeight =np.divide((np.sum(np.multiply(Widths,Heights))) , Width)\n",
        "#Defining the output variables which is the x and y coordinate for each piece.\n",
        "x_ith =[]\n",
        "for i in range(Number):\n",
        "    x_ith.append(Int(\"x_%d\" % i) )\n",
        "\n",
        "y_ith =[]\n",
        "for i in range(Number):\n",
        "    y_ith.append(Int(\"y_%d\" % i)) \n",
        "\n",
        "def FindM(ele):\n",
        "  Max = ele[0]\n",
        "  for i in ele[1:]:\n",
        "    Max = If(i > Max, i, Max)\n",
        "  return Max    \n",
        "sorted_circuits = sorted(zip(Widths, Heights), key=lambda x: x[0]*x[1], reverse=True)\n",
        "Widths1, Heights1 = zip(*sorted_circuits)    \n",
        "OptHeight = FindM([y_ith[i] + Heights[i] for i in range(Number)])\n",
        "#definig diffn \n",
        "def diffn(x,y,dx,dy):\n",
        "    n = len(x)\n",
        "    overlap = [\n",
        "        Or(x_ith[i] + Widths[i]  <= x_ith[j],\n",
        "           x_ith[j] + Widths[j]  <= x_ith[i],\n",
        "           y_ith[i] + Heights[i] <= y_ith[j],\n",
        "           y_ith[j] + Heights[j] <= y_ith[i]) \n",
        "           for i in range(Number) \n",
        "        for j in range(Number) if i < j]\n",
        "    return overlap\n",
        "overlap1 = diffn(x_ith,  y_ith, Widths, Heights)\n",
        "overlap2 = diffn(x_ith,  y_ith, Widths1, Heights1)\n",
        "\n",
        "Bound = [] \n",
        "for i in range(Number):\n",
        "    Bound.append(And(x_ith[i] >= 0, \n",
        "        y_ith[i] >= 0,\n",
        "        x_ith[i] + Widths[i] <=Width))            \n",
        "          \n"
      ],
      "metadata": {
        "id": "0IlsX08fh4vQ"
      },
      "execution_count": null,
      "outputs": []
    },
    {
      "cell_type": "code",
      "source": [
        "# Creating an optimization object\n",
        "opt = Optimize()\n",
        "\n",
        "# Adding constraints\n",
        "#opt.add(x_ith[0] == 0, y_ith[0] == 0)\n",
        "opt.add(overlap1)\n",
        "opt.add(overlap2)\n",
        "opt.add(Bound)\n",
        "# Adding an optimization goal\n",
        "opt.minimize(OptHeight)\n",
        "# Checking if the optimization is satisfiable\n",
        "if opt.check() == sat:\n",
        "    model = opt.model()\n",
        "    # Extracting the values of x and y from the optimization model\n",
        "    x_vals = [model.eval(x_ith[i]).as_long() for i in range(Number)]\n",
        "    y_vals = [model.eval(y_ith[i]).as_long() for i in range(Number)]\n",
        "    print(\"x_vals: \", x_vals)\n",
        "    print(\"y_vals: \", y_vals)\n",
        "    print(\"Minimized height: \", model.eval(OptHeight).as_long())\n",
        "else:\n",
        "    print(\"The optimization is not satisfiable\")  \n",
        "timing = (time.time() - start_time)\n",
        "print(timing)"
      ],
      "metadata": {
        "colab": {
          "base_uri": "https://localhost:8080/"
        },
        "id": "mCTxyBJoctFM",
        "outputId": "1d85c147-5921-42a6-baec-8a03d77b67af"
      },
      "execution_count": null,
      "outputs": [
        {
          "output_type": "stream",
          "name": "stdout",
          "text": [
            "x_vals:  [7, 7, 0, 10, 10, 0, 3, 3, 3]\n",
            "y_vals:  [6, 9, 8, 0, 6, 0, 10, 6, 0]\n",
            "Minimized height:  13\n",
            "4.56686806678772\n"
          ]
        }
      ]
    }
  ]
}