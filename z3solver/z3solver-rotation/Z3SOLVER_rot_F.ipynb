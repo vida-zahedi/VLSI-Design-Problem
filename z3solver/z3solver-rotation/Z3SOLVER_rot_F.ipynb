{
  "cells": [
    {
      "cell_type": "markdown",
      "source": [
        "# **VLSI DESIGN USING Z3 SOLVER**"
      ],
      "metadata": {
        "id": "CBQdgUeP4mFe"
      }
    },
    {
      "cell_type": "code",
      "source": [
        "!pip install z3-solver"
      ],
      "metadata": {
        "colab": {
          "base_uri": "https://localhost:8080/"
        },
        "id": "UFQUC9QT4r3c",
        "outputId": "f2f8e514-7526-4657-98e8-37272901e5f6"
      },
      "execution_count": null,
      "outputs": [
        {
          "output_type": "stream",
          "name": "stdout",
          "text": [
            "Looking in indexes: https://pypi.org/simple, https://us-python.pkg.dev/colab-wheels/public/simple/\n",
            "Collecting z3-solver\n",
            "  Downloading z3_solver-4.12.1.0-py2.py3-none-manylinux1_x86_64.whl (56.0 MB)\n",
            "\u001b[2K     \u001b[90m━━━━━━━━━━━━━━━━━━━━━━━━━━━━━━━━━━━━━━━━\u001b[0m \u001b[32m56.0/56.0 MB\u001b[0m \u001b[31m16.8 MB/s\u001b[0m eta \u001b[36m0:00:00\u001b[0m\n",
            "\u001b[?25hInstalling collected packages: z3-solver\n",
            "Successfully installed z3-solver-4.12.1.0\n"
          ]
        }
      ]
    },
    {
      "cell_type": "markdown",
      "source": [
        "# load and change the input file as needed"
      ],
      "metadata": {
        "id": "eKi5tcdPBiLb"
      }
    },
    {
      "cell_type": "code",
      "source": [
        "#importing required libraries\n",
        "import time\n",
        "start_time = time.time()\n",
        "import numpy as np\n",
        "from z3 import And, Or, Int,Not, Solver, sat, If, Sum , Bool,Implies,Optimize\n",
        "\n",
        "Num = 6 #the number of instance we want to find the solution for.\n",
        "Inputs = []\n",
        "#reading the file and seperating each row.\n",
        "with open( InstanceName , 'r') as Sample:\n",
        "    for line in Sample:\n",
        "        Inputs.append(line.replace('\\n',''))\n",
        "#Making a 2 dimensional list of the Inputs in str format.       \n",
        "Inputs=[line.split(' ') for line in Inputs]\n",
        "#print(Inputs)\n",
        "\n",
        "# we must change the inputs from string to integer.\n",
        "# Defining the inputs and variables. \n",
        "Width   = int(Inputs[0][0]) \n",
        "Number  = int(Inputs[1][0]) \n",
        "Widths  = [int(line[0]) for line in Inputs[2:]] \n",
        "Heights = [int(line[1]) for line in Inputs[2:]] \n",
        "#defining the upper boundary for the height of plate => calling it MaxHeight.\n",
        "MaxHeight = sum(Heights) \n",
        "#defining the lower boundary for the height of plate => calling it MinHeight.\n",
        "MinHeight =np.divide((np.sum(np.multiply(Widths,Heights))) , Width)\n",
        "#Defining the output variables which is the x and y coordinate for each piece.\n",
        "x_ith =[]\n",
        "for i in range(Number):\n",
        "    x_ith.append(Int(f'x{i}') )\n",
        "\n",
        "y_ith =[]\n",
        "for i in range(Number):\n",
        "    y_ith.append(Int(f'y{i}')) \n",
        "\n",
        "def FindM(ele):\n",
        "  Max = ele[0]\n",
        "  for i in ele[1:]:\n",
        "    Max = If(i > Max, i, Max)\n",
        "  return Max    \n",
        "\n",
        "OptHeight = FindM([y_ith[i] + Heights[i] for i in range(Number)])\n",
        "\n",
        "#Rotation Variables\n",
        "Rotation =[]\n",
        "for i in range(Number):\n",
        "    Rotation.append(Bool(f'r{i}'))\n",
        "\n",
        "Widths_r = []\n",
        "for i in range(Number):\n",
        "    Widths_r.append(Int(f'w{i}'))\n",
        "\n",
        "Heights_r = []\n",
        "for i in range(Number):\n",
        "    Heights_r.append(Int(f'h{i}'))\n",
        "\n",
        "#Rotation Constraint\n",
        "Rot = []\n",
        "for i in range(Number):\n",
        "    Rot.append(And(Implies(Rotation[i], Heights_r[i] == Widths[i]), \n",
        "    Implies(Rotation[i], Widths_r[i] == Heights[i]),\n",
        "    Implies(Not(Rotation[i]), Widths_r[i] == Widths[i]),\n",
        "    Implies(Not(Rotation[i]), Heights_r[i] == Heights[i])))\n",
        "#Defining the diffn constraints as a function\n",
        "def diffn(x,y,dx,dy):\n",
        "    n = len(x)\n",
        "    overlap = [\n",
        "        Or(x_ith[i] + Widths[i]  <= x_ith[j],\n",
        "           x_ith[j] + Widths[j]  <= x_ith[i],\n",
        "           y_ith[i] + Heights[i] <= y_ith[j],\n",
        "           y_ith[j] + Heights[j] <= y_ith[i]) \n",
        "           for i in range(Number) \n",
        "        for j in range(Number) if i < j]\n",
        "    return overlap\n",
        "overlap1 = diffn(x_ith,  y_ith, Widths_r, Heights_r)  \n",
        "sorted_circuits = sorted(zip(Widths, Heights), key=lambda x: x[0]*x[1], reverse=True)\n",
        "Widths1, Heights1 = zip(*sorted_circuits)  \n",
        "overlap2 = diffn(x_ith,  y_ith, Widths1, Heights1) \n",
        "Bound = [] \n",
        "for i in range(Number):\n",
        "    Bound.append(And(x_ith[i] >= 0, \n",
        "        y_ith[i] >= 0,\n",
        "        x_ith[i] + Widths_r[i] <=Width))  \n",
        "    \n",
        "     "
      ],
      "metadata": {
        "id": "bVWBD50TBuhz"
      },
      "execution_count": null,
      "outputs": []
    },
    {
      "cell_type": "code",
      "source": [
        "# Creating an optimization object\n",
        "opt = Optimize()\n",
        "\n",
        "# Adding constraints\n",
        "opt.add(overlap1)\n",
        "opt.add(overlap2)\n",
        "opt.add(Rot)\n",
        "opt.add(Bound)\n",
        "# Adding an optimization goal\n",
        "# In this case, it's to minimize the height of the plate\n",
        "opt.minimize(OptHeight)\n",
        "\n",
        "# Checking if the optimization is satisfiable\n",
        "if opt.check() == sat:\n",
        "    model = opt.model()\n",
        "    # Extracting the values of x and y from the optimization model\n",
        "    x_vals = [model.eval(x_ith[i]).as_long() for i in range(Number)]\n",
        "    y_vals = [model.eval(y_ith[i]).as_long() for i in range(Number)]\n",
        "    print(\"x_vals: \", x_vals)\n",
        "    print(\"y_vals: \", y_vals)\n",
        "    print(\"Minimized height: \", model.eval(OptHeight).as_long())\n",
        "else:\n",
        "    print(\"The optimization is not satisfiable\")\n",
        "timing = (time.time() - start_time)\n",
        "print(timing)    "
      ],
      "metadata": {
        "id": "tMGYLrw7Xz6x",
        "colab": {
          "base_uri": "https://localhost:8080/"
        },
        "outputId": "a16942f5-c164-4ee6-c613-b65de300aa03"
      },
      "execution_count": null,
      "outputs": [
        {
          "output_type": "stream",
          "name": "stdout",
          "text": [
            "x_vals:  [0, 4, 10, 7, 7, 10, 3, 0, 0]\n",
            "y_vals:  [0, 3, 8, 0, 6, 0, 0, 3, 7]\n",
            "Minimized height:  13\n",
            "4.657948970794678\n"
          ]
        }
      ]
    }
  ],
  "metadata": {
    "language_info": {
      "name": "python"
    },
    "orig_nbformat": 4,
    "colab": {
      "provenance": []
    },
    "kernelspec": {
      "name": "python3",
      "display_name": "Python 3"
    },
    "gpuClass": "standard"
  },
  "nbformat": 4,
  "nbformat_minor": 0
}