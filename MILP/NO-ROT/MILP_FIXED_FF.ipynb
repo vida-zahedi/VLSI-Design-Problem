{
  "nbformat": 4,
  "nbformat_minor": 0,
  "metadata": {
    "colab": {
      "provenance": []
    },
    "kernelspec": {
      "name": "python3",
      "display_name": "Python 3"
    },
    "language_info": {
      "name": "python"
    }
  },
  "cells": [
    {
      "cell_type": "markdown",
      "source": [
        "\n",
        "# VLSI DESIGN PROBLEM USING MIXED INTEGER LINEAR PROGRAMMING-FIXED"
      ],
      "metadata": {
        "id": "3Pxko0nGZgj5"
      }
    },
    {
      "cell_type": "markdown",
      "source": [
        "\"\"\" Team members : vida Zahedi (vida.zahedi@studio.unibo.it) - Samral Tahirli (samral.tahirli@studio.unibo.it) \"\"\""
      ],
      "metadata": {
        "id": "L3a0I7SpZsGD"
      }
    },
    {
      "cell_type": "code",
      "execution_count": 1,
      "metadata": {
        "colab": {
          "base_uri": "https://localhost:8080/"
        },
        "id": "dMps4Z7bLp87",
        "outputId": "a5006f73-0527-4467-b601-fcee9a26c586"
      },
      "outputs": [
        {
          "output_type": "stream",
          "name": "stdout",
          "text": [
            "Looking in indexes: https://pypi.org/simple, https://us-python.pkg.dev/colab-wheels/public/simple/\n",
            "Collecting gurobipy\n",
            "  Downloading gurobipy-10.0.1-cp38-cp38-manylinux2014_x86_64.whl (12.8 MB)\n",
            "\u001b[2K     \u001b[90m━━━━━━━━━━━━━━━━━━━━━━━━━━━━━━━━━━━━━━━━\u001b[0m \u001b[32m12.8/12.8 MB\u001b[0m \u001b[31m22.3 MB/s\u001b[0m eta \u001b[36m0:00:00\u001b[0m\n",
            "\u001b[?25hInstalling collected packages: gurobipy\n",
            "Successfully installed gurobipy-10.0.1\n"
          ]
        }
      ],
      "source": [
        "!pip install gurobipy"
      ]
    },
    {
      "cell_type": "code",
      "source": [
        "#importing requiredlibraries\n",
        "import time\n",
        "import math\n",
        "import numpy as np\n",
        "import gurobipy as gp\n",
        "from gurobipy import GRB\n",
        "from itertools import combinations"
      ],
      "metadata": {
        "id": "dKsdxqj2L8fv"
      },
      "execution_count": 53,
      "outputs": []
    },
    {
      "cell_type": "code",
      "source": [
        "#for reading the data and making the inputs\n",
        "def read_instance(file_name):\n",
        "    with open(file_name, 'r') as f:\n",
        "        Width = int(f.readline().strip())\n",
        "        Number = int(f.readline().strip())\n",
        "        Pieces = np.array([list(map(int, line.strip().split())) for line in f.readlines()])\n",
        "    return Width, Number, Pieces\n"
      ],
      "metadata": {
        "id": "fdFlYgmhgYHF"
      },
      "execution_count": 54,
      "outputs": []
    },
    {
      "cell_type": "code",
      "source": [
        "#a function to solve the problem\n",
        "def vlsi_optimization(Width, Number, Pieces):\n",
        "    x_ith = Pieces[:, 0]\n",
        "    y_ith = Pieces[:, 1]\n",
        "    min_height = sum(x_ith * y_ith) // Width\n",
        "    max_height = math.ceil(sum(y_ith)/(Width//max(x_ith)))\n",
        "    M1 = 10**6\n",
        "    M2 = 10**6\n",
        "    Solver = gp.Model('VLSI-DESIGN-FIXED')\n",
        "    OptHeight = Solver.addVar(name='OptHeight', vtype=GRB.INTEGER, lb=min_height, ub=max_height)\n",
        "    x = Solver.addVars(list(range(Number)), name=\"x\", vtype=gp.GRB.INTEGER, lb=0, ub=Width - x_ith.min())\n",
        "    y = Solver.addVars(list(range(Number)), name=\"y\", vtype=gp.GRB.INTEGER, lb=0, ub=max_height - y_ith.min())\n",
        "    comb = Solver.addVars([(i,j,k) for (i,j) in combinations(x,2) for k in range(4)], name='comb', vtype=gp.GRB.BINARY)\n",
        "    Solver.addConstrs((x[i] + x_ith[i] <= Width for i in range(Number)), name='c1')\n",
        "    Solver.addConstrs((y[i] + y_ith[i] <= OptHeight for i in range(Number)), name='c2')\n",
        "    Solver.addConstrs((comb.sum(i,j,'*') >= 1 for (i,j) in combinations(x,2)), name = 'c3')\n",
        "    Solver.addConstrs((x[j] + x_ith[j] <= x[i]  + M1 * (1 - comb[i,j,0]) for (i,j) in combinations(x,2)), name = 'c4')\n",
        "    Solver.addConstrs((x[i] + x_ith[i] <= x[j] + M1 * (1 - comb[i,j,1]) for (i,j) in combinations(x,2)), name = 'c5')\n",
        "    Solver.addConstrs((y[j] + y_ith[j] <= y[i] + M2 * (1 - comb[i,j,2]) for (i,j) in combinations(x,2)), name = 'c6')\n",
        "    Solver.addConstrs((y[i] + y_ith[i] <= y[j] + M2 * (1 - comb[i,j,3]) for  (i,j) in combinations(x,2)), name = 'c7')\n",
        "    Solver.setObjective(OptHeight, GRB.MINIMIZE)\n",
        "    Solver.optimize()\n",
        "    if Solver.status == GRB.OPTIMAL:\n",
        "        minimized_height = Solver.getVarByName('OptHeight').x\n",
        "        print('Minimized height:', minimized_height)\n",
        "        for i in range(Number):\n",
        "            print('Circuit', i, ':', 'x =', x[i].x, 'y =', y[i].x)\n",
        "    else:\n",
        "        print('Optimization failed')\n",
        "    Solver.update()\n",
        "    return  x, y,OptHeight \n"
      ],
      "metadata": {
        "id": "fZPup9cdYwRi"
      },
      "execution_count": 61,
      "outputs": []
    },
    {
      "cell_type": "code",
      "source": [
        "#calling the functions to solve instances\n",
        "Num= 2\n",
        "start_time = time.time()\n",
        "file_name = \"/content/ins-\"+str(Num)+\".txt\"\n",
        "Width, Number, Pieces = read_instance(file_name)\n",
        "#vlsi_optimization(width, Number, pieces)\n",
        "vlsi_optimization(Width, Number, Pieces)\n",
        "#print the execution time \n",
        "timing = (time.time() - start_time)\n",
        "print(timing,\"execution-time\")"
      ],
      "metadata": {
        "colab": {
          "base_uri": "https://localhost:8080/"
        },
        "id": "vIOfjkbShUK6",
        "outputId": "ff5df8d6-3ea9-402f-bf3d-641814e181ca"
      },
      "execution_count": 62,
      "outputs": [
        {
          "output_type": "stream",
          "name": "stdout",
          "text": [
            "Gurobi Optimizer version 10.0.1 build v10.0.1rc0 (linux64)\n",
            "\n",
            "CPU model: Intel(R) Xeon(R) CPU @ 2.20GHz, instruction set [SSE2|AVX|AVX2]\n",
            "Thread count: 1 physical cores, 2 logical processors, using up to 2 threads\n",
            "\n",
            "Optimize a model with 60 rows, 51 columns and 175 nonzeros\n",
            "Model fingerprint: 0x5b3332e8\n",
            "Variable types: 0 continuous, 51 integer (40 binary)\n",
            "Coefficient statistics:\n",
            "  Matrix range     [1e+00, 1e+06]\n",
            "  Objective range  [1e+00, 1e+00]\n",
            "  Bounds range     [1e+00, 9e+00]\n",
            "  RHS range        [1e+00, 1e+06]\n",
            "Found heuristic solution: objective 9.0000000\n",
            "\n",
            "Explored 0 nodes (0 simplex iterations) in 0.01 seconds (0.00 work units)\n",
            "Thread count was 1 (of 2 available processors)\n",
            "\n",
            "Solution count 1: 9 \n",
            "\n",
            "Optimal solution found (tolerance 1.00e-04)\n",
            "Best objective 9.000000000000e+00, best bound 9.000000000000e+00, gap 0.0000%\n",
            "Minimized height: 9.0\n",
            "Circuit 0 : x = 6.0 y = 0.0\n",
            "Circuit 1 : x = 3.0 y = 5.0\n",
            "Circuit 2 : x = 3.0 y = 0.0\n",
            "Circuit 3 : x = 6.0 y = 3.0\n",
            "Circuit 4 : x = 0.0 y = 0.0\n",
            "0.04751086235046387 execution-time\n"
          ]
        }
      ]
    }
  ]
}